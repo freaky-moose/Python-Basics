{
  "nbformat": 4,
  "nbformat_minor": 0,
  "metadata": {
    "colab": {
      "provenance": []
    },
    "kernelspec": {
      "name": "python3",
      "display_name": "Python 3"
    },
    "language_info": {
      "name": "python"
    }
  },
  "cells": [
    {
      "cell_type": "markdown",
      "source": [
        "# **Python Basic Questions**"
      ],
      "metadata": {
        "id": "MyxcKl_x70FO"
      }
    },
    {
      "cell_type": "markdown",
      "source": [
        "1. What is Python, and why is it popular?\n",
        " - Python is a high-level, interpreted programming language known for its simplicity and readability. It was created by **Guido Van Rossum** in 1991.\n",
        " - **Why is it popular?**\n",
        "    1. Widely used in the Industry & Data Industries.\n",
        "    2. Python has a vast & contineously growing ecosystem of Libraries(more than 137000) & a large no of active community.\n",
        "    3. Python is a general purpose language which can be used in Web Development, Machine Learning, Front-End part, Back-End part, Data Analysis, Automation, Image Processing, Databases etc.\n",
        "    4. Easy to learn & Ease of Readability making it beginner-friendly.\n",
        "    5. Python has Cross-platform support. Python code runs on most Operating Systems without any major changes.\n",
        "    6. Pyhton is very efficient. It gives good performance & less computation time.\n",
        "\n",
        "2. What is an interpreter in Python?\n",
        " - An **Intrepreter** is a program that reads & executes Python code line-by-line, converting it into a machine language so it can be run directly by the computer.\n",
        "3. What are pre-defined keywords in Python?\n",
        " - **Predefined Keywords** are reserved words in Python that holds a special meaning that have specific purpose in **Python** programming & cannot be used for variable names (e.g., False, True, From, Or, None etc.)\n",
        "4. Can keywords be used as variable names?\n",
        " - No, keywords can not be used as variable names they are reserved by the language.\n",
        "5. What is mutability in Python?\n",
        " - Mutability refers to whether an object's value can be changed after it is created. Mutability objects can be modified, whereas immutable once cannot.\n",
        "6. Why are lists mutable, but tuples are immutable?\n",
        " - Lists are designed to be flexible and changeable, so they allow item modification. Tuples are meant to be constant data collections,which is why they don't allow canges once defined.\n",
        "7. What is the difference between “==” and “is” operators in Python?\n",
        " - \"==\" checks if the values of two variables are equal, whereas \"is\" checks if they refer to the same object in memory.\n",
        "8. What are logical operators in Python?\n",
        " - Logical operators include \"and\", \"or\", and \"not\". They are used to combine conditional statements.\n",
        "9. What is type casting in Python?\n",
        " - **Type Casting** is the process of converting one data type to another, such as turning an integer into a float.\n",
        "10. What is the difference between implicit and explicit type casting?\n",
        " - **Implicit**: Python automatically converts the type. Ex- Converting a small data type into a large data type.\n",
        " - **Explicit**: Programmer manually converts the type. Ex- Converting a large data type into a small data type.\n",
        "11. What is the purpose of conditional statements in Python?\n",
        " - They allow you to execute different blocks of code based on conditions using if, elif and else.\n",
        "12. How does the elif statement work?\n",
        " - **elif** also known as \"else if\" lets you check multiple expressions for True and execute a block of code as soon as one condition is True. If False, it checks the next elif.\n",
        "13. What is the difference between for and while loops?\n",
        " - **for loops**: Used when you know the no of iterations.\n",
        " - **while loops**: Used when a no of iterations is known and depends on a condition.\n",
        "14. Describe a scenario where a while loop is more suitable than a for loop.\n",
        " - When waiting for user input until they enter a specific value, you don't know how many attempts they will make, making a while loop more suitable.\n"
      ],
      "metadata": {
        "id": "vdwFEk3B8Lil"
      }
    },
    {
      "cell_type": "markdown",
      "source": [
        "# **Practical Quesions**"
      ],
      "metadata": {
        "id": "RPoAUjGc8bY1"
      }
    },
    {
      "cell_type": "markdown",
      "source": [
        "1.  Write a Python program to print \"Hello, World!\""
      ],
      "metadata": {
        "id": "iwxU1MooMkW8"
      }
    },
    {
      "cell_type": "code",
      "execution_count": null,
      "metadata": {
        "colab": {
          "base_uri": "https://localhost:8080/"
        },
        "id": "y9KDt1z56pOQ",
        "outputId": "ff4e314f-1c8f-4715-96f2-cf80f670950c"
      },
      "outputs": [
        {
          "output_type": "stream",
          "name": "stdout",
          "text": [
            "Hello,World!\n"
          ]
        }
      ],
      "source": [
        "# Program to print \"Hello, World!\"\n",
        "\n",
        "print(\"Hello,World!\")"
      ]
    },
    {
      "cell_type": "markdown",
      "source": [
        "2. Write a Python program that displays your name and age."
      ],
      "metadata": {
        "id": "aSOEhlruNWsc"
      }
    },
    {
      "cell_type": "code",
      "source": [
        "# Program to display name & age\n",
        "\n",
        "name = \"Sayan\"\n",
        "age = 27\n",
        "print(\"My name is \" + name + \" and My age is \" + str(age) + \".\")"
      ],
      "metadata": {
        "id": "rS4ZMbYcOc9E",
        "colab": {
          "base_uri": "https://localhost:8080/"
        },
        "outputId": "6adecec0-9dff-4835-8efd-3a84e598fa1f"
      },
      "execution_count": 16,
      "outputs": [
        {
          "output_type": "stream",
          "name": "stdout",
          "text": [
            "My name is Sayan and My age is 27.\n"
          ]
        }
      ]
    },
    {
      "cell_type": "markdown",
      "source": [
        "3. Write code to print all the pre-defined keywords in Python using the keyword library."
      ],
      "metadata": {
        "id": "MLgPr1_GjGgJ"
      }
    },
    {
      "cell_type": "code",
      "source": [
        "# Code to print all the pre-defined keywords\n",
        "\n",
        "help(\"keywords\")"
      ],
      "metadata": {
        "colab": {
          "base_uri": "https://localhost:8080/"
        },
        "id": "rUq75L1uJyZD",
        "outputId": "01402417-da96-41f9-89bd-3f219c0c41fa"
      },
      "execution_count": 3,
      "outputs": [
        {
          "output_type": "stream",
          "name": "stdout",
          "text": [
            "\n",
            "Here is a list of the Python keywords.  Enter any keyword to get more help.\n",
            "\n",
            "False               class               from                or\n",
            "None                continue            global              pass\n",
            "True                def                 if                  raise\n",
            "and                 del                 import              return\n",
            "as                  elif                in                  try\n",
            "assert              else                is                  while\n",
            "async               except              lambda              with\n",
            "await               finally             nonlocal            yield\n",
            "break               for                 not                 \n",
            "\n"
          ]
        }
      ]
    },
    {
      "cell_type": "markdown",
      "source": [
        "4. Write a program that checks if a given word is a Python keyword."
      ],
      "metadata": {
        "id": "W6y5Ou8gj0nK"
      }
    },
    {
      "cell_type": "code",
      "source": [
        "# Program to check if a word is a Python keyword\n",
        "\n",
        "import keyword\n",
        "\n",
        "# Get input from the user\n",
        "word = input(\"Enter a word: \")\n",
        "\n",
        "# Check if the word is a keyword\n",
        "if keyword.iskeyword(word):\n",
        "  print(f\"{word} is a Python keyword.\")\n",
        "else:\n",
        "  print(f\"{word} is not a Python keyword.\")"
      ],
      "metadata": {
        "colab": {
          "base_uri": "https://localhost:8080/"
        },
        "id": "KnBOedib9GlE",
        "outputId": "7b3a8d59-b587-4d42-961a-8351885c7424"
      },
      "execution_count": 20,
      "outputs": [
        {
          "output_type": "stream",
          "name": "stdout",
          "text": [
            "Enter a word: if\n",
            "if is a Python keyword.\n"
          ]
        }
      ]
    },
    {
      "cell_type": "markdown",
      "source": [
        "5. Create a list and tuple in Python, and demonstrate how attempting to change an element works differently\n",
        "for each."
      ],
      "metadata": {
        "id": "iTBECyYzTWAP"
      }
    },
    {
      "cell_type": "code",
      "source": [
        "# Create a List and a Tuple\n",
        "\n",
        "my_list = [1, 2, 3, 4, 5]\n",
        "my_tuple = (1, 2, 3, 4, 5)\n",
        "\n",
        "# Modify an element in the List\n",
        "my_list[0] = 100\n",
        "print(\"Modified list:\", my_list)"
      ],
      "metadata": {
        "colab": {
          "base_uri": "https://localhost:8080/"
        },
        "id": "4rggpnWKTxMH",
        "outputId": "21aebcad-3f1e-4484-a86a-c0574ee5cf50"
      },
      "execution_count": 2,
      "outputs": [
        {
          "output_type": "stream",
          "name": "stdout",
          "text": [
            "Modified list: [100, 2, 3, 4, 5]\n"
          ]
        }
      ]
    },
    {
      "cell_type": "code",
      "source": [
        "#Attempt to modify an element in the Tuple\n",
        "try:\n",
        "  my_tuple[0] = 100\n",
        "except TypeError as e:\n",
        "  print(\"Error modifying tuple:\", e)"
      ],
      "metadata": {
        "colab": {
          "base_uri": "https://localhost:8080/"
        },
        "id": "-z91JK6LVe4o",
        "outputId": "9439b679-a3c7-4beb-cc05-abf24c8e1a1d"
      },
      "execution_count": 5,
      "outputs": [
        {
          "output_type": "stream",
          "name": "stdout",
          "text": [
            "Error modifying tuple: 'tuple' object does not support item assignment\n"
          ]
        }
      ]
    },
    {
      "cell_type": "markdown",
      "source": [
        "6. Write a function to demonstrate the behaviour of mutable and immutable arguments."
      ],
      "metadata": {
        "id": "dKRmgv-aWet3"
      }
    },
    {
      "cell_type": "code",
      "source": [
        "# Function to demonstrate the behaviour of mutable and immutable arguments\n",
        "\n",
        "def demonstrate_mutability(mutable_arg, immutable_arg):\n",
        "  #Try modifying the mutable argument (e.g., list)\n",
        "  mutable_arg.append(4)\n",
        "  #Try modifying the immutable argument (e.g., int)\n",
        "  immutable_arg += 1\n",
        "  print(\"Inside function - mutable_arg:\", mutable_arg)\n",
        "  print(\"Inside function - immutable_arg:\", immutable_arg)\n",
        "\n",
        "# Initialize arguments\n",
        "my_list = [1, 2, 3]     #Mutable\n",
        "my_int = 10             #Immutable\n",
        "\n",
        "# Call the function\n",
        "demonstrate_mutability(my_list, my_int)\n",
        "\n",
        "# Check the original variables after the function call\n",
        "print(\"Outside function - my_list:\", my_list)\n",
        "print(\"Outside function - my_int:\", my_int)"
      ],
      "metadata": {
        "colab": {
          "base_uri": "https://localhost:8080/"
        },
        "id": "gTSD3uskZTUH",
        "outputId": "af427454-1185-49e0-a33a-61488b179708"
      },
      "execution_count": 21,
      "outputs": [
        {
          "output_type": "stream",
          "name": "stdout",
          "text": [
            "Inside function - mutable_arg: [1, 2, 3, 4]\n",
            "Inside function - immutable_arg: 11\n",
            "Outside function - my_list: [1, 2, 3, 4]\n",
            "Outside function - my_int: 10\n"
          ]
        }
      ]
    },
    {
      "cell_type": "markdown",
      "source": [
        "7. Write a program that performs basic arithmetic operations on two user-input numbers."
      ],
      "metadata": {
        "id": "9losWspobnpF"
      }
    },
    {
      "cell_type": "code",
      "source": [
        "# Basic Arithmatic Operation Program\n",
        "\n",
        "# Get input from the user\n",
        "num1 = float(input(\"Enter the first number:\"))\n",
        "num2 = float(input(\"Enter the second number\"))\n",
        "\n",
        "# Perform operations\n",
        "addition = num1 + num2\n",
        "subtraction = num1 - num2\n",
        "multiplication = num1 * num2\n",
        "division = num1 / num2\n",
        "\n",
        "# Display results\n",
        "print(\"\\nResults:\")\n",
        "print(f\"Addition: {num1} + {num2} = {addition}\")\n",
        "print(f\"Subtraction: {num1} - {num2} = {subtraction}\")\n",
        "print(f\"Multiplication: {num1} * {num2} = {multiplication}\")\n",
        "print(f\"Division: {num1} / {num2} = {division}\")"
      ],
      "metadata": {
        "colab": {
          "base_uri": "https://localhost:8080/"
        },
        "id": "bkAH8-MAb5hN",
        "outputId": "d867a0e8-c024-4a9c-b56f-5e4325fd5d63"
      },
      "execution_count": 23,
      "outputs": [
        {
          "output_type": "stream",
          "name": "stdout",
          "text": [
            "Enter the first number:6\n",
            "Enter the second number3\n",
            "\n",
            "Results:\n",
            "Addition: 6.0 + 3.0 = 9.0\n",
            "Subtraction: 6.0 - 3.0 = 3.0\n",
            "Multiplication: 6.0 * 3.0 = 18.0\n",
            "Division: 6.0 / 3.0 = 2.0\n"
          ]
        }
      ]
    },
    {
      "cell_type": "markdown",
      "source": [
        "8. Write a program to demonstrate the use of logical operators."
      ],
      "metadata": {
        "id": "vM0Vr8IIdvFl"
      }
    },
    {
      "cell_type": "code",
      "source": [
        "# Logical Operators Demonstration\n",
        "\n",
        "# Get input from the user\n",
        "a = int(input(\"Enter a number (a): \"))\n",
        "b = int(input(\"Enter another number (b): \"))\n",
        "\n",
        "# Conditions using logical operators\n",
        "condition1 = a > 0 and b > 0\n",
        "condition2 = a > 0 or b > 0\n",
        "condition3 = not(a > 0)\n",
        "\n",
        "# Display results\n",
        "print(\"\\nLogical Operator Results:\")\n",
        "print(f\"a > 0 and b > 0: {condition1}\")\n",
        "print(f\"a > 0 or b > 0: {condition2}\")\n",
        "print(f\"not(a > 0): {condition3}\")"
      ],
      "metadata": {
        "colab": {
          "base_uri": "https://localhost:8080/"
        },
        "id": "a5cVEjkMdzbV",
        "outputId": "13f58145-d6db-4322-dc0e-69b956b9458f"
      },
      "execution_count": 11,
      "outputs": [
        {
          "output_type": "stream",
          "name": "stdout",
          "text": [
            "Enter a number (a): 4\n",
            "Enter another number (b): -2\n",
            "\n",
            "Logical Operator Results:\n",
            "a > 0 and b > 0: False\n",
            "a > 0 or b > 0: True\n",
            "not(a > 0): False\n"
          ]
        }
      ]
    },
    {
      "cell_type": "markdown",
      "source": [
        "9. Write a Python program to convert user input from string to integer, float, and boolean types."
      ],
      "metadata": {
        "id": "MpztLJpafUW3"
      }
    },
    {
      "cell_type": "code",
      "source": [
        "# Conversation of user input to int, float, and bool\n",
        "\n",
        "# Get input from the user\n",
        "user_input = input(\"Enter a value: \")\n",
        "\n",
        "# Convert to integer\n",
        "try:\n",
        "  int_value = int(user_input)\n",
        "  print(f\"Integer conversation: {int_value}\")\n",
        "except ValueError:\n",
        "  print(\"Cannot convert to integer.\")\n",
        "\n",
        "# Convert to float\n",
        "try:\n",
        "  float_value = float(user_input)\n",
        "  print(f\"Float conversation: {float_value}\")\n",
        "except ValueError:\n",
        "  print(\"Cannot convert to float.\")\n",
        "\n",
        "# Convert to boolean\n",
        "# Note: any non-empty string converts to True, empty string to False\n",
        "bool_value = bool(user_input)\n",
        "print(f\"Boolean conversation: {bool_value}\")"
      ],
      "metadata": {
        "colab": {
          "base_uri": "https://localhost:8080/"
        },
        "id": "5pEanK_ifUDl",
        "outputId": "fd4a2021-1b54-4e6c-ebf2-f4d3053e93e2"
      },
      "execution_count": 12,
      "outputs": [
        {
          "output_type": "stream",
          "name": "stdout",
          "text": [
            "Enter a value: 12\n",
            "Integer conversation: 12\n",
            "Float conversation: 12.0\n",
            "Boolean conversation: True\n"
          ]
        }
      ]
    },
    {
      "cell_type": "markdown",
      "source": [
        "10. Write code to demonstrate type casting with list elements."
      ],
      "metadata": {
        "id": "Jh5WaDSGg_2V"
      }
    },
    {
      "cell_type": "code",
      "source": [
        "# Demonstrate type casting with list elements\n",
        "\n",
        "# Original list of strings representing numbers\n",
        "str_list = ['1', '2', '3', '4.5', '5.6', 'True', 'False']\n",
        "\n",
        "# Conver string elements to integer (if possible)\n",
        "int_list = []\n",
        "for item in str_list:\n",
        "  try:\n",
        "    int_list.append(int(float(item)))   # float() first to handle '4.5' correctly\n",
        "  except ValueError:\n",
        "    int_list.append(None)   # or handle the error as needed\n",
        "\n",
        "# Convert string elements to float\n",
        "float_list = []\n",
        "for item in str_list:\n",
        "  try:\n",
        "    float_list.append(float(item))\n",
        "  except ValueError:\n",
        "    float_list.append(None)\n",
        "\n",
        "# Convert string elements to boolean\n",
        "bool_list = [bool(item) for item in str_list]\n",
        "\n",
        "# Display results\n",
        "print(\"Original list:\", str_list)\n",
        "print(\"Integer list:\", int_list)\n",
        "print(\"Float list:\", float_list)\n",
        "print(\"Boolean list:\", bool_list)"
      ],
      "metadata": {
        "colab": {
          "base_uri": "https://localhost:8080/"
        },
        "id": "2XfmPzODkhB8",
        "outputId": "2b541c4b-eacc-4807-d148-3aa62b96dcd1"
      },
      "execution_count": 13,
      "outputs": [
        {
          "output_type": "stream",
          "name": "stdout",
          "text": [
            "Original list: ['1', '2', '3', '4.5', '5.6', 'True', 'False']\n",
            "Integer list: [1, 2, 3, 4, 5, None, None]\n",
            "Float list: [1.0, 2.0, 3.0, 4.5, 5.6, None, None]\n",
            "Boolean list: [True, True, True, True, True, True, True]\n"
          ]
        }
      ]
    },
    {
      "cell_type": "markdown",
      "source": [
        "11. Write a program that checks if a number is positive, negative, or zero."
      ],
      "metadata": {
        "id": "9FK6atjIm4_r"
      }
    },
    {
      "cell_type": "code",
      "source": [
        "# Program that checks if a number is positive, negative, or zero.\n",
        "\n",
        "# Get input from the user\n",
        "num = float(input(\"Enter a number: \"))\n",
        "\n",
        "# Check the condition\n",
        "if num > 0:\n",
        "  print(\"The number is positive.\")\n",
        "elif num < 0:\n",
        "  print(\"The number is negative.\")\n",
        "else:\n",
        "  print(\"The number is zero.\")"
      ],
      "metadata": {
        "colab": {
          "base_uri": "https://localhost:8080/"
        },
        "id": "YOIM0pIVm_Jb",
        "outputId": "bec7fbc6-2586-4a16-9027-c491c3f45add"
      },
      "execution_count": 14,
      "outputs": [
        {
          "output_type": "stream",
          "name": "stdout",
          "text": [
            "Enter a number: 8\n",
            "The number is positive.\n"
          ]
        }
      ]
    },
    {
      "cell_type": "markdown",
      "source": [
        "12. Write a for loop to print numbers from 1 to 10."
      ],
      "metadata": {
        "id": "NmB2oH3bnmR7"
      }
    },
    {
      "cell_type": "code",
      "source": [
        "# For loop to print number from 1 to 10\n",
        "for i in range(1, 11):\n",
        "  print(i)"
      ],
      "metadata": {
        "colab": {
          "base_uri": "https://localhost:8080/"
        },
        "id": "CEDmZghKnuKb",
        "outputId": "f617a87e-e4af-48bf-e0fa-d8463b70c670"
      },
      "execution_count": 15,
      "outputs": [
        {
          "output_type": "stream",
          "name": "stdout",
          "text": [
            "1\n",
            "2\n",
            "3\n",
            "4\n",
            "5\n",
            "6\n",
            "7\n",
            "8\n",
            "9\n",
            "10\n"
          ]
        }
      ]
    },
    {
      "cell_type": "markdown",
      "source": [
        "13. Write a Python program to find the sum of all even numbers between 1 and 50."
      ],
      "metadata": {
        "id": "ieTHyHRtoEsL"
      }
    },
    {
      "cell_type": "code",
      "source": [
        "# Program to find the sum of all even numbers between 1 and 50\n",
        "\n",
        "even_sum = 0\n",
        "for i in range(1, 51):\n",
        "  if i % 2 == 0:\n",
        "    even_sum += i\n",
        "\n",
        "print(\"The sum of all even numbers between 1 and 50 is:\", even_sum)"
      ],
      "metadata": {
        "colab": {
          "base_uri": "https://localhost:8080/"
        },
        "id": "w_fYXAhYoXL7",
        "outputId": "ecb34cbc-1ed0-4a44-a3cc-ce4eb7ae39b1"
      },
      "execution_count": 16,
      "outputs": [
        {
          "output_type": "stream",
          "name": "stdout",
          "text": [
            "The sum of all even numbers between 1 and 50 is: 650\n"
          ]
        }
      ]
    },
    {
      "cell_type": "markdown",
      "source": [
        "14. Write a program to reverse a string using a while loop."
      ],
      "metadata": {
        "id": "48xpYaZEoypD"
      }
    },
    {
      "cell_type": "code",
      "source": [
        "# Program to reverse a string using a while loop\n",
        "\n",
        "# Get input from the user\n",
        "original_string = input(\"Enter a string: \")\n",
        "\n",
        "# Initialize variables\n",
        "reversed_string = \"\"\n",
        "index = len(original_string) - 1\n",
        "\n",
        "# Use a while loop to reverse the string\n",
        "while index >= 0:\n",
        "  reversed_string += original_string[index]\n",
        "  index -= 1\n",
        "\n",
        "# Display the result\n",
        "print(\"Reversed string:\", reversed_string)"
      ],
      "metadata": {
        "colab": {
          "base_uri": "https://localhost:8080/"
        },
        "id": "6J7l_XN0o1J7",
        "outputId": "1a4057a9-e635-48ac-bc6e-c55baaa0c89d"
      },
      "execution_count": 17,
      "outputs": [
        {
          "output_type": "stream",
          "name": "stdout",
          "text": [
            "Enter a string: Python\n",
            "Reversed string: nohtyP\n"
          ]
        }
      ]
    },
    {
      "cell_type": "markdown",
      "source": [
        "15. Write a Python program to calculate the factorial of a number provided by the user using a while loop."
      ],
      "metadata": {
        "id": "xMFFPkM3phnr"
      }
    },
    {
      "cell_type": "code",
      "source": [
        "# Program to calculate the factorial of a number using while loop\n",
        "\n",
        "# Get input from the user\n",
        "num = int(input(\"Enter a number: \"))\n",
        "\n",
        "# Checek if the input is valid\n",
        "if num< 0:\n",
        "  print(\"Factorial is not defined for negative numbers.\")\n",
        "else:\n",
        "  factorial = 1\n",
        "  n = num\n",
        "  while n > 1:\n",
        "    factorial *= n\n",
        "    n -= 1\n",
        "  print(f\"The factorial of {num} is {factorial}\")"
      ],
      "metadata": {
        "colab": {
          "base_uri": "https://localhost:8080/"
        },
        "id": "mpd-N7GJpy6C",
        "outputId": "1ddeede9-43de-4393-c080-224466d8e3eb"
      },
      "execution_count": 19,
      "outputs": [
        {
          "output_type": "stream",
          "name": "stdout",
          "text": [
            "Enter a number: 7\n",
            "The factorial of 7 is 5040\n"
          ]
        }
      ]
    }
  ]
}