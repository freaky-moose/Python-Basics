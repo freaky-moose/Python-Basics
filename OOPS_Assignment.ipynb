{
  "nbformat": 4,
  "nbformat_minor": 0,
  "metadata": {
    "colab": {
      "provenance": []
    },
    "kernelspec": {
      "name": "python3",
      "display_name": "Python 3"
    },
    "language_info": {
      "name": "python"
    }
  },
  "cells": [
    {
      "cell_type": "markdown",
      "source": [
        "# **Python OOPs Questions:**"
      ],
      "metadata": {
        "id": "p843LWoODSpP"
      }
    },
    {
      "cell_type": "markdown",
      "source": [
        "## **01. What is Object-Oriented Programming (OOP)?**"
      ],
      "metadata": {
        "id": "WqkHUJjVDh7u"
      }
    },
    {
      "cell_type": "markdown",
      "source": [
        " - OOP is a programming paradigm based on the concept of 'objects', which can contain data (attributes) and code (methods). It promotes modularity, code reuse, and abstraction through four main principles: encapsulation, inheritance, polymorphism and abstraction."
      ],
      "metadata": {
        "id": "uyTRkA3ME6uW"
      }
    },
    {
      "cell_type": "markdown",
      "source": [
        "## **02. What is a class in OOP?**"
      ],
      "metadata": {
        "id": "wouJLY6AFBVu"
      }
    },
    {
      "cell_type": "markdown",
      "source": [
        "-  A class is a blueprint for creating objects. It defines a set of attributes and methods that the created objects (instances) will have."
      ],
      "metadata": {
        "id": "gz39tMp-FFrO"
      }
    },
    {
      "cell_type": "markdown",
      "source": [
        "## **03. What is an object in OOP?**"
      ],
      "metadata": {
        "id": "dqz0nN12FMB-"
      }
    },
    {
      "cell_type": "markdown",
      "source": [
        "-  An object is an instance of a class. It contains data and functions that operate on that data."
      ],
      "metadata": {
        "id": "LmHZRIFeFQgW"
      }
    },
    {
      "cell_type": "markdown",
      "source": [
        "## **04. What is the difference between abstraction and encapsulation?**"
      ],
      "metadata": {
        "id": "Ccu5UCnzFVZu"
      }
    },
    {
      "cell_type": "markdown",
      "source": [
        "- Abstraction hides complexity and shows only relevant details.\n",
        "- Encapsulation hides the internal state and requires all interaction to be performed through an object's methods."
      ],
      "metadata": {
        "id": "3n4atz3iFaUu"
      }
    },
    {
      "cell_type": "markdown",
      "source": [
        "## **05. What are dunder methods in Python?**"
      ],
      "metadata": {
        "id": "nvNL_Ml3Fjbm"
      }
    },
    {
      "cell_type": "markdown",
      "source": [
        "- Dunder (double underscore) methods like _ _ init _ _, _ _ str _ _ , and _ _ call _ _ are special methods with names surrounded by double underscores. They allow customization of built-in behaviours."
      ],
      "metadata": {
        "id": "lSBoMFcAFncu"
      }
    },
    {
      "cell_type": "markdown",
      "source": [
        "## **06. Explain the concept of inheritance in OOP.**"
      ],
      "metadata": {
        "id": "0HEvJbaaGjVG"
      }
    },
    {
      "cell_type": "markdown",
      "source": [
        "-  Inheritance allows one class (child) to inherit attributes and methods from another class (parent), enabling code reuse and a hierarchical class structure."
      ],
      "metadata": {
        "id": "4ZEx__9JGojn"
      }
    },
    {
      "cell_type": "markdown",
      "source": [
        "## **07. What is polymorphism in OOP?**"
      ],
      "metadata": {
        "id": "sicu1aDZGsI-"
      }
    },
    {
      "cell_type": "markdown",
      "source": [
        "-  Polymorphism allows different classes to be treated as instances of the same class through a common interface, typically via method overriding or operator overloading."
      ],
      "metadata": {
        "id": "yRfyD92uGyRO"
      }
    },
    {
      "cell_type": "markdown",
      "source": [
        "## **08. How is encapsulation achieved in Python?**"
      ],
      "metadata": {
        "id": "PZysUTAAG_Qe"
      }
    },
    {
      "cell_type": "markdown",
      "source": [
        "-  Encapsulation is achieved using access modifiers:\n",
        "        _protected: by conversion (accessible but treated as protected)\n",
        "        _ _private: name mangling (e.g., _ ClassName _ _ var)."
      ],
      "metadata": {
        "id": "xbofMQa0HDr2"
      }
    },
    {
      "cell_type": "markdown",
      "source": [
        "## **09. What is a constructor in Python?**"
      ],
      "metadata": {
        "id": "e9r7GZ4uIQkO"
      }
    },
    {
      "cell_type": "markdown",
      "source": [
        "- The _ _ init _ _ method acts as the the constructor method in Python, called automatically when an object is instantiated."
      ],
      "metadata": {
        "id": "d_xoFmZcIU1N"
      }
    },
    {
      "cell_type": "markdown",
      "source": [
        "## **10. What are class and static methods in Python?**"
      ],
      "metadata": {
        "id": "UIvbCuDNIuJ-"
      }
    },
    {
      "cell_type": "markdown",
      "source": [
        "-  @classmethod: uses 'cls' as the first argument and can modify class state.\n",
        "-  @staticmethod: does not take self or cls; behaves like a regular function within a class."
      ],
      "metadata": {
        "id": "QB8FCqaDIyG-"
      }
    },
    {
      "cell_type": "markdown",
      "source": [
        "## **11. What is method overloading in Python?**"
      ],
      "metadata": {
        "id": "KKyMXSAoJeCG"
      }
    },
    {
      "cell_type": "markdown",
      "source": [
        "-  Python does not support traditional method overloading. However, it can be mimicked using default arguments or variable-length arguments (* args, ** kwargs)."
      ],
      "metadata": {
        "id": "vBr5gCuEJiZG"
      }
    },
    {
      "cell_type": "markdown",
      "source": [
        "## **12. What is method overriding in OOP?**"
      ],
      "metadata": {
        "id": "EzpGrOMAKGnW"
      }
    },
    {
      "cell_type": "markdown",
      "source": [
        "-  Method overriding occurs when a subclass provides a specific implementation of a method that is already defined in its superclass."
      ],
      "metadata": {
        "id": "oNKVDYo6KK-O"
      }
    },
    {
      "cell_type": "markdown",
      "source": [
        "## **13. What is a property decorator in Python?**"
      ],
      "metadata": {
        "id": "Osr-_xvlKrEt"
      }
    },
    {
      "cell_type": "markdown",
      "source": [
        "- The @property decorator allows a method to be accessed like an attribute. It's used to define getter, setter, and deleter for encapsulation."
      ],
      "metadata": {
        "id": "PzuU7kbRKxzO"
      }
    },
    {
      "cell_type": "markdown",
      "source": [
        "## **14. Why is polymorphism important in OOP?**"
      ],
      "metadata": {
        "id": "41sTiNfTLHf-"
      }
    },
    {
      "cell_type": "markdown",
      "source": [
        "- It allows flexibility and integration of different objects through a common interface, enabling scalable and interchangeable code components."
      ],
      "metadata": {
        "id": "_hHlss3zLLu-"
      }
    },
    {
      "cell_type": "markdown",
      "source": [
        "## **15. What is an abstract class in Python?**"
      ],
      "metadata": {
        "id": "WmObgSC5LmsO"
      }
    },
    {
      "cell_type": "markdown",
      "source": [
        "- An abstract class cannot be instantiated and usually contains one or more abstract methods, which must be implemented by subclasses. Defined using abc module and @abstractmethod."
      ],
      "metadata": {
        "id": "G-Bjq9QiLsae"
      }
    },
    {
      "cell_type": "markdown",
      "source": [
        "## **16. What are the advantages of OOP?**"
      ],
      "metadata": {
        "id": "Yqf_4NqiPyqF"
      }
    },
    {
      "cell_type": "markdown",
      "source": [
        "- Code reuse through inheritance.\n",
        "- Encapsulation for security.\n",
        "- Polymorthism for flexibility.\n",
        "- Abstraction for simplification.\n",
        "- Modularity and maintainability."
      ],
      "metadata": {
        "id": "gK9kQoASP3dl"
      }
    },
    {
      "cell_type": "markdown",
      "source": [
        "## **17. What is the difference between a class variable and an instance variable?**"
      ],
      "metadata": {
        "id": "Hv1YjDD4QYWG"
      }
    },
    {
      "cell_type": "markdown",
      "source": [
        "- Class variable: shared across all instances.\n",
        "- Instance variable: unique to each instance."
      ],
      "metadata": {
        "id": "FoN293LIQeRO"
      }
    },
    {
      "cell_type": "markdown",
      "source": [
        "## **18. What is multiple inheritance in Python?**"
      ],
      "metadata": {
        "id": "K2rBUbQvQwnW"
      }
    },
    {
      "cell_type": "markdown",
      "source": [
        "- A class can inherit from more than one parent class. Python handles this using the Method Resolution Order (MRO)."
      ],
      "metadata": {
        "id": "F_XZAq5dQ0fe"
      }
    },
    {
      "cell_type": "markdown",
      "source": [
        "## **19. Explain the purpose of \"_ _ str _ _ ' and '_ _ repr _ _ \" methods in Python.**"
      ],
      "metadata": {
        "id": "EtbQXOcURGTm"
      }
    },
    {
      "cell_type": "markdown",
      "source": [
        "- _ _ str _ _: defines the human-readable string representation (str()).\n",
        "- _ _ reps _ _: defines the official representation (repr()), used for debugging."
      ],
      "metadata": {
        "id": "lg3QsEcaSjtK"
      }
    },
    {
      "cell_type": "markdown",
      "source": [
        "## **20. What is the significance of the 'super()' function in Python?**"
      ],
      "metadata": {
        "id": "mv7wf464TMoW"
      }
    },
    {
      "cell_type": "markdown",
      "source": [
        "- super() allows access to methods of the parent or sibling class, commonly used in method overriding to call the superclass method."
      ],
      "metadata": {
        "id": "Kn5GCwMUTWnd"
      }
    },
    {
      "cell_type": "markdown",
      "source": [
        "## **21. What is the significance of the _ _ del _ _ method in Python?**"
      ],
      "metadata": {
        "id": "16k_MmZ2TqUV"
      }
    },
    {
      "cell_type": "markdown",
      "source": [
        "- _ _ del _ _ is the destructor method, called when an object is about to be destroyed. It is used for cleanup but should be used cautiously."
      ],
      "metadata": {
        "id": "jdy3Rl1qTuOt"
      }
    },
    {
      "cell_type": "markdown",
      "source": [
        "## **22. What is the difference between @staticmethod and @classmethod in Python?**"
      ],
      "metadata": {
        "id": "_r4U-njFUKkl"
      }
    },
    {
      "cell_type": "markdown",
      "source": [
        "- @staticmethod does not access class or instance data.\n",
        "- @classmethod accesses class data and takes cls as the first argument."
      ],
      "metadata": {
        "id": "JJPXgjLWUOE-"
      }
    },
    {
      "cell_type": "markdown",
      "source": [
        "## **23. How does polymorphism work in Python with inheritance?**"
      ],
      "metadata": {
        "id": "QvgDh1h8UhWt"
      }
    },
    {
      "cell_type": "markdown",
      "source": [
        "- Subclasses can override methods of the base class. The same interface can call different subclass specific implementations at runtime."
      ],
      "metadata": {
        "id": "VNb0lKhfUmsd"
      }
    },
    {
      "cell_type": "markdown",
      "source": [
        "## **24. What is method chaining in Python OOP?**"
      ],
      "metadata": {
        "id": "yESWDdG0U9TW"
      }
    },
    {
      "cell_type": "markdown",
      "source": [
        "- Method chaining means calling multiple methods on the same object in a single line. Each method must return self."
      ],
      "metadata": {
        "id": "agf3AQgQVBXl"
      }
    },
    {
      "cell_type": "markdown",
      "source": [
        "## **25. What is the purpose of the _ _ call _ _ method in Python?**"
      ],
      "metadata": {
        "id": "gPykywdpVU7d"
      }
    },
    {
      "cell_type": "markdown",
      "source": [
        "- _ _ call _ _ makes an instance callable like a function. It's used when objects need to behave like functions."
      ],
      "metadata": {
        "id": "gfxInaJwVZBG"
      }
    },
    {
      "cell_type": "markdown",
      "source": [
        "# **Practical Questions:**"
      ],
      "metadata": {
        "id": "ncw3iYA_V612"
      }
    },
    {
      "cell_type": "markdown",
      "source": [
        "## **1. Create a parent class Animal with a method speak() that prints a generic message. Create a child class Dog that overrides the speak() method to print \"Bark!\".**\n"
      ],
      "metadata": {
        "id": "odUfsgQGWSgd"
      }
    },
    {
      "cell_type": "code",
      "source": [
        "class Animal:\n",
        "    def speak(self):\n",
        "        print(\"Generic animal sound\")\n",
        "\n",
        "class Dog(Animal):\n",
        "    def speak(self):\n",
        "        print(\"Bark!\")\n",
        "\n",
        "# Test\n",
        "dog = Dog()\n",
        "dog.speak()"
      ],
      "metadata": {
        "colab": {
          "base_uri": "https://localhost:8080/"
        },
        "id": "v6cwCwgPscPQ",
        "outputId": "552f69b3-280d-4ff8-edad-8fe24649960a"
      },
      "execution_count": 4,
      "outputs": [
        {
          "output_type": "stream",
          "name": "stdout",
          "text": [
            "Bark!\n"
          ]
        }
      ]
    },
    {
      "cell_type": "markdown",
      "source": [
        "## **2. Write a program to create an abstract class Shape with a method area(). Derive classes Circle and Rectangle from it and implement the area() method in both.**"
      ],
      "metadata": {
        "id": "QVqBvipltnKw"
      }
    },
    {
      "cell_type": "code",
      "source": [
        "from abc import ABC, abstractmethod\n",
        "\n",
        "class Shape(ABC):\n",
        "    @abstractmethod\n",
        "    def area(self):\n",
        "        pass\n",
        "\n",
        "class Circle(Shape):\n",
        "  def __init__(self, radius):\n",
        "    self.radius = radius\n",
        "\n",
        "  def area(self):\n",
        "    return 3.14 * self.radius ** 2\n",
        "\n",
        "class Rectangle(Shape):\n",
        "  def __init__(self, width, height):\n",
        "    self.height = height\n",
        "    self.width = width\n",
        "\n",
        "  def area(self):\n",
        "    return self.height * self.width\n",
        "\n",
        "# Test\n",
        "circle = Circle(5)\n",
        "rectangle = Rectangle(4, 6)\n",
        "print(circle.area())\n",
        "print(rectangle.area())"
      ],
      "metadata": {
        "colab": {
          "base_uri": "https://localhost:8080/"
        },
        "id": "F0LfLSYPuDrw",
        "outputId": "5002ab7f-ddf1-4f72-8dd7-a0bbd5fb52c0"
      },
      "execution_count": 6,
      "outputs": [
        {
          "output_type": "stream",
          "name": "stdout",
          "text": [
            "78.5\n",
            "24\n"
          ]
        }
      ]
    },
    {
      "cell_type": "markdown",
      "source": [
        "## **3. Implement a multi-level inheritance scenario where a class Vehicle has an attribute type. Derive a class Carand further derive a class Electric Car that adds a battery attribute.**"
      ],
      "metadata": {
        "id": "CWEgPf2ovBuA"
      }
    },
    {
      "cell_type": "code",
      "source": [
        "class Vehicle:\n",
        "    def __init__(self, type):\n",
        "        self.type = type\n",
        "\n",
        "class Car(Vehicle):\n",
        "    def __init__(self, type, model):\n",
        "        super().__init__(type)\n",
        "        self.model = model\n",
        "\n",
        "class ElectricCar(Car):\n",
        "    def __init__(self, type, model, battery):\n",
        "        super().__init__(type, model)\n",
        "        self.battery = battery\n",
        "\n",
        "# Test\n",
        "e_car = ElectricCar(\"Electric\", \"Tesla\", \"100 KWh\")\n",
        "print(e_car.type, e_car.model, e_car.battery)"
      ],
      "metadata": {
        "colab": {
          "base_uri": "https://localhost:8080/"
        },
        "id": "mTUBSZL3vLcA",
        "outputId": "22fbfdd1-cca9-4cde-87f7-4272e9fc7b9a"
      },
      "execution_count": 7,
      "outputs": [
        {
          "output_type": "stream",
          "name": "stdout",
          "text": [
            "Electric Tesla 100 KWh\n"
          ]
        }
      ]
    },
    {
      "cell_type": "markdown",
      "source": [
        "## **4. Demonstrate polymorphism by creating a base class Bird with a method fly(). Create two derived classes Sparrow and Penguin that override the fly() method.**"
      ],
      "metadata": {
        "id": "thRZpmL8v1u4"
      }
    },
    {
      "cell_type": "code",
      "source": [
        "class Bird:\n",
        "    def fly(self):\n",
        "        print(\"Some birds can fly\")\n",
        "\n",
        "class Sparrow(Bird):\n",
        "    def fly(self):\n",
        "        print(\"Sparrow flies high\")\n",
        "\n",
        "class Penguin(Bird):\n",
        "    def fly(self):\n",
        "        print(\"Penguin cannot fly\")\n",
        "\n",
        "# Test\n",
        "birds = [Sparrow(), Penguin()]\n",
        "for bird in birds:\n",
        "    bird.fly()"
      ],
      "metadata": {
        "colab": {
          "base_uri": "https://localhost:8080/"
        },
        "id": "9XMcsIQhv-iY",
        "outputId": "535f242c-118d-46bc-b85c-b022d6e123a1"
      },
      "execution_count": 8,
      "outputs": [
        {
          "output_type": "stream",
          "name": "stdout",
          "text": [
            "Sparrow flies high\n",
            "Penguin cannot fly\n"
          ]
        }
      ]
    },
    {
      "cell_type": "markdown",
      "source": [
        "## **5. Write a program to demonstrate encapsulation by creating a class BankAccount with private attributes balance and methods to deposit, withdraw, and check balance.**"
      ],
      "metadata": {
        "id": "cb9u4dfkwfXR"
      }
    },
    {
      "cell_type": "code",
      "source": [
        "class BankAccount:\n",
        "    def __init__(self, balance):\n",
        "        self.__balance = balance\n",
        "\n",
        "    def deposit(self, amount):\n",
        "        self.__balance += amount\n",
        "\n",
        "    def withdraw(self, amount):\n",
        "        if amount <= self.__balance:\n",
        "            self.__balance -= amount\n",
        "\n",
        "    def check_balance(self):\n",
        "        return self.__balance\n",
        "\n",
        "# Test\n",
        "account = BankAccount(1000)\n",
        "account.deposit(500)\n",
        "account.withdraw(200)\n",
        "print(account.check_balance())"
      ],
      "metadata": {
        "colab": {
          "base_uri": "https://localhost:8080/"
        },
        "id": "D7uUWIFJwuhA",
        "outputId": "6b33d0c3-1084-437d-97a4-318a795cf458"
      },
      "execution_count": 9,
      "outputs": [
        {
          "output_type": "stream",
          "name": "stdout",
          "text": [
            "1300\n"
          ]
        }
      ]
    },
    {
      "cell_type": "markdown",
      "source": [
        "## **6. Demonstrate runtime polymorphism using a method play() in a base class Instrument. Derive classes Guitar and Piano that implement their own version of play().**"
      ],
      "metadata": {
        "id": "CrlS7DLPxNWw"
      }
    },
    {
      "cell_type": "code",
      "source": [
        "class Instrument:\n",
        "    def play(self):\n",
        "        print(\"Playing an instrument\")\n",
        "\n",
        "class Guitar(Instrument):\n",
        "    def play(self):\n",
        "        print(\"Guitar is playing\")\n",
        "\n",
        "class Piano(Instrument):\n",
        "    def play(self):\n",
        "        print(\"Piano is playing\")\n",
        "\n",
        "# Test\n",
        "instruments = [Guitar(), Piano()]\n",
        "for instrument in instruments:\n",
        "    instrument.play()"
      ],
      "metadata": {
        "colab": {
          "base_uri": "https://localhost:8080/"
        },
        "id": "ByDpzweDxVLw",
        "outputId": "972a4323-d499-42b5-d502-b96aa74ca7a8"
      },
      "execution_count": 10,
      "outputs": [
        {
          "output_type": "stream",
          "name": "stdout",
          "text": [
            "Guitar is playing\n",
            "Piano is playing\n"
          ]
        }
      ]
    },
    {
      "cell_type": "markdown",
      "source": [
        "## **7. Create a class MathOperations with a class method add_numbers() to add two numbers and a static method subtract_numbers() to subtract two numbers.**"
      ],
      "metadata": {
        "id": "XBYB1k1qx04Y"
      }
    },
    {
      "cell_type": "code",
      "source": [
        "class MathOperations:\n",
        "  @classmethod\n",
        "  def add_numbers(cls, a, b):\n",
        "    return a + b\n",
        "\n",
        "  @staticmethod\n",
        "  def subtract_numbers(a, b):\n",
        "    return a - b\n",
        "\n",
        "# Test\n",
        "print(MathOperations.add_numbers(5, 3))\n",
        "print(MathOperations.subtract_numbers(10, 4))"
      ],
      "metadata": {
        "colab": {
          "base_uri": "https://localhost:8080/"
        },
        "id": "GvcX_lyDx6mg",
        "outputId": "289f4e86-03d2-46b3-b8f9-c80d16a2ca6d"
      },
      "execution_count": 11,
      "outputs": [
        {
          "output_type": "stream",
          "name": "stdout",
          "text": [
            "8\n",
            "6\n"
          ]
        }
      ]
    },
    {
      "cell_type": "markdown",
      "source": [
        "## **8. Implement a class Person with a class method to count the total number of persons created.**"
      ],
      "metadata": {
        "id": "HHf9DwILyXsQ"
      }
    },
    {
      "cell_type": "code",
      "source": [
        "class Person:\n",
        "  count = 0\n",
        "\n",
        "  def __init__(self):\n",
        "    Person.count += 1\n",
        "\n",
        "  @classmethod\n",
        "  def total_persons(cls):\n",
        "    return cls.count\n",
        "\n",
        "# Test\n",
        "p1 = Person()\n",
        "p2 = Person()\n",
        "print(Person.total_persons())"
      ],
      "metadata": {
        "colab": {
          "base_uri": "https://localhost:8080/"
        },
        "id": "HAjPg-fnybgg",
        "outputId": "227d3478-85ba-4c35-c5e8-1939eb9902fe"
      },
      "execution_count": 12,
      "outputs": [
        {
          "output_type": "stream",
          "name": "stdout",
          "text": [
            "2\n"
          ]
        }
      ]
    },
    {
      "cell_type": "markdown",
      "source": [
        "## **9. Write a class Fraction with attributes numerator and denominator. Override the str method to display the fraction as \"numerator/denominator\".**"
      ],
      "metadata": {
        "id": "92XhYhi8ytD4"
      }
    },
    {
      "cell_type": "code",
      "source": [
        "class Fraction:\n",
        "  def __init__(self, numerator, denominator):\n",
        "    self.numerator = numerator\n",
        "    self.denominator = denominator\n",
        "\n",
        "  def __str__(self):\n",
        "    return f\"{self.numerator}/{self.denominator}\"\n",
        "\n",
        "# Test\n",
        "f = Fraction(3, 4)\n",
        "print(f)"
      ],
      "metadata": {
        "colab": {
          "base_uri": "https://localhost:8080/"
        },
        "id": "gD5goRNny1rI",
        "outputId": "dd532cae-d3be-4d70-f5d5-a421ea1e6852"
      },
      "execution_count": 15,
      "outputs": [
        {
          "output_type": "stream",
          "name": "stdout",
          "text": [
            "3/4\n"
          ]
        }
      ]
    },
    {
      "cell_type": "markdown",
      "source": [
        "## **10. Demonstrate operator overloading by creating a class Vector and overriding the add method to add two vectors.**"
      ],
      "metadata": {
        "id": "t4UV-neOzQxh"
      }
    },
    {
      "cell_type": "code",
      "source": [
        "class Vector:\n",
        "  def __init__(self, x, y):\n",
        "    self.x = x\n",
        "    self.y = y\n",
        "\n",
        "  def __add__(self, other):\n",
        "    return Vector(self.x + other.x, self.y + other.y)\n",
        "\n",
        "  def __str__(self):\n",
        "    return f\"({self.x}, {self.y})\"\n",
        "\n",
        "# Test\n",
        "v1 = Vector(1, 2)\n",
        "v2 = Vector(3, 4)\n",
        "v3 = v1 + v2\n",
        "print(v3)"
      ],
      "metadata": {
        "colab": {
          "base_uri": "https://localhost:8080/"
        },
        "id": "P80ESJGPzVoQ",
        "outputId": "6e8ecb85-a51c-4c24-8877-f24b383828e8"
      },
      "execution_count": 16,
      "outputs": [
        {
          "output_type": "stream",
          "name": "stdout",
          "text": [
            "(4, 6)\n"
          ]
        }
      ]
    },
    {
      "cell_type": "markdown",
      "source": [
        "## **11. Create a class Person with attributes name and age. Add a method greet() that prints \"Hello, my name is {name} and I am {age} years old.\"**"
      ],
      "metadata": {
        "id": "1pNOcDzG4l_g"
      }
    },
    {
      "cell_type": "code",
      "source": [
        "class Person:\n",
        "  def __init__(self, name, age):\n",
        "    self.name = name\n",
        "    self.age = age\n",
        "\n",
        "  def greet(self):\n",
        "    print(f\"Hello, my name is {self.name} and I am {self.age} years old.\")\n",
        "\n",
        "# Test\n",
        "p = Person(\"John\", 25)\n",
        "p.greet()"
      ],
      "metadata": {
        "colab": {
          "base_uri": "https://localhost:8080/"
        },
        "id": "H3Yq9Dkx4shv",
        "outputId": "4073a8fa-4328-4515-9566-25c957bd363e"
      },
      "execution_count": 17,
      "outputs": [
        {
          "output_type": "stream",
          "name": "stdout",
          "text": [
            "Hello, my name is John and I am 25 years old.\n"
          ]
        }
      ]
    },
    {
      "cell_type": "markdown",
      "source": [
        "## **12. Implement a class Student with attributes name and grades. Create a method average_grade() to compute the average of the grades.**"
      ],
      "metadata": {
        "id": "r_Mfd4cb-AzI"
      }
    },
    {
      "cell_type": "code",
      "source": [
        "class Student:\n",
        "  def __init__(self, name, grades):\n",
        "    self.name = name\n",
        "    self.grades = grades\n",
        "\n",
        "  def average_grade(self):\n",
        "    return sum(self.grades) / len(self.grades)\n",
        "\n",
        "# Test\n",
        "s = Student(\"Satish\", [80, 90, 85])\n",
        "print(s.average_grade())"
      ],
      "metadata": {
        "colab": {
          "base_uri": "https://localhost:8080/"
        },
        "id": "yihk_nMF-Gow",
        "outputId": "81cc0d2e-ee36-4c56-eb25-b436e48a2ebb"
      },
      "execution_count": 18,
      "outputs": [
        {
          "output_type": "stream",
          "name": "stdout",
          "text": [
            "85.0\n"
          ]
        }
      ]
    },
    {
      "cell_type": "markdown",
      "source": [
        "## **13. Create a class Rectangle with methods set_dimensions() to set the dimensions and area() to calculate the area.**\n"
      ],
      "metadata": {
        "id": "rTAScj_l-iJ5"
      }
    },
    {
      "cell_type": "code",
      "source": [
        "class Rectangle:\n",
        "  def set_dimensions(self, height, width):\n",
        "    self.height = height\n",
        "    self.width = width\n",
        "\n",
        "  def area(self):\n",
        "    return self.height * self.width\n",
        "\n",
        "# Test\n",
        "r = Rectangle()\n",
        "r.set_dimensions(4, 5)\n",
        "print(r.area())"
      ],
      "metadata": {
        "colab": {
          "base_uri": "https://localhost:8080/"
        },
        "id": "RqdE53ou-nz4",
        "outputId": "a6b67315-7572-4128-e7ed-99077c8c6c53"
      },
      "execution_count": 20,
      "outputs": [
        {
          "output_type": "stream",
          "name": "stdout",
          "text": [
            "20\n"
          ]
        }
      ]
    },
    {
      "cell_type": "markdown",
      "source": [
        "## **14. Create a class Employee with a method calculate_salary() that computes the salary based on hours worked and hourly rate. Create a derived class Manager that adds a bonus to the salary.**"
      ],
      "metadata": {
        "id": "pn29ZKH5GY7w"
      }
    },
    {
      "cell_type": "code",
      "source": [
        "class Employee:\n",
        "  def __init__(self, hours_worked, hourly_rate):\n",
        "    self.hours_worked = hours_worked\n",
        "    self.hourly_rate = hourly_rate\n",
        "\n",
        "  def calculate_salary(self):\n",
        "    return self.hours_worked * self.hourly_rate\n",
        "\n",
        "class Manager(Employee):\n",
        "  def __init__(self, hours_worked, hourly_rate, bonus):\n",
        "    super().__init__(hours_worked, hourly_rate)\n",
        "    self.bonus = bonus\n",
        "\n",
        "  def calculate_salary(self):\n",
        "    return super().calculate_salary() + self.bonus\n",
        "\n",
        "# Test\n",
        "e = Employee(40, 20)\n",
        "m = Manager(40, 20, 500)\n",
        "print(e.calculate_salary())\n",
        "print(m.calculate_salary())"
      ],
      "metadata": {
        "colab": {
          "base_uri": "https://localhost:8080/"
        },
        "id": "ui-E0Va8Gegf",
        "outputId": "cbddfdfd-ec49-4750-9d68-869410f4dd2a"
      },
      "execution_count": 21,
      "outputs": [
        {
          "output_type": "stream",
          "name": "stdout",
          "text": [
            "800\n",
            "1300\n"
          ]
        }
      ]
    },
    {
      "cell_type": "markdown",
      "source": [
        "## **15. Create a class Product with attributes name, price, and quantity. Implement a method total_price() that calculates the total price of the product.**"
      ],
      "metadata": {
        "id": "_GDT7C1THMwv"
      }
    },
    {
      "cell_type": "code",
      "source": [
        "class Product:\n",
        "  def __init__(self, name, price, quantity):\n",
        "    self.name = name\n",
        "    self.price = price\n",
        "    self.quantity = quantity\n",
        "\n",
        "  def total_price(self):\n",
        "    return self.price * self.quantity\n",
        "\n",
        "# Test\n",
        "p = Product(\"Phone\", 15000, 2)\n",
        "print(p.total_price())"
      ],
      "metadata": {
        "colab": {
          "base_uri": "https://localhost:8080/"
        },
        "id": "R5bh4R4QHTcf",
        "outputId": "f2f76370-b760-489c-8efb-a48dc9c10ce0"
      },
      "execution_count": 23,
      "outputs": [
        {
          "output_type": "stream",
          "name": "stdout",
          "text": [
            "30000\n"
          ]
        }
      ]
    },
    {
      "cell_type": "markdown",
      "source": [
        "## **16. Create a class Animal with an abstract method sound(). Create two derived classes Cow and Sheep that implement the sound() method.**"
      ],
      "metadata": {
        "id": "Uf7NYk6AHxmK"
      }
    },
    {
      "cell_type": "code",
      "source": [
        "from abc import ABC, abstractmethod\n",
        "\n",
        "class Animal(ABC):\n",
        "  @abstractmethod\n",
        "  def sound(self):\n",
        "    pass\n",
        "\n",
        "class Cow(Animal):\n",
        "  def sound(self):\n",
        "    print(\"Moo!\")\n",
        "\n",
        "class Sheep(Animal):\n",
        "  def sound(self):\n",
        "    print(\"Baa!\")\n",
        "\n",
        "# Test\n",
        "c = Cow()\n",
        "s = Sheep()\n",
        "c.sound()\n",
        "s.sound()"
      ],
      "metadata": {
        "colab": {
          "base_uri": "https://localhost:8080/"
        },
        "id": "hDAxIorjH3b4",
        "outputId": "b64bca00-e07c-40e0-930c-c0a0d86444a1"
      },
      "execution_count": 24,
      "outputs": [
        {
          "output_type": "stream",
          "name": "stdout",
          "text": [
            "Moo!\n",
            "Baa!\n"
          ]
        }
      ]
    },
    {
      "cell_type": "markdown",
      "source": [
        "## **17. Create a class Book with attributes title, author, and year_published. Add a method get_book_info() that returns a formatted string with the book's details.**"
      ],
      "metadata": {
        "id": "iluVYaQZIMAh"
      }
    },
    {
      "cell_type": "code",
      "source": [
        "class Book:\n",
        "  def __init__(self, title, author, year_published):\n",
        "    self.title = title\n",
        "    self.author = author\n",
        "    self.year_published = year_published\n",
        "\n",
        "  def get_book_info(self):\n",
        "    return f\"{self.title} by {self.author} ({self.year_published})\"\n",
        "\n",
        "# Test\n",
        "b = Book(\"1984\", \"George Orwell\", 1949)\n",
        "print(b.get_book_info())"
      ],
      "metadata": {
        "colab": {
          "base_uri": "https://localhost:8080/"
        },
        "id": "WtigCSYGIROI",
        "outputId": "f67f8d18-db05-4974-be37-f2ba7cea36a1"
      },
      "execution_count": 25,
      "outputs": [
        {
          "output_type": "stream",
          "name": "stdout",
          "text": [
            "1984 by George Orwell (1949)\n"
          ]
        }
      ]
    },
    {
      "cell_type": "markdown",
      "source": [
        "## **18. Create a class House with attributes address and price. Create a derived class Mansion that adds an attribute number_of_rooms.**"
      ],
      "metadata": {
        "id": "WVFDZoL2Iw4Z"
      }
    },
    {
      "cell_type": "code",
      "source": [
        "class House:\n",
        "  def __init__(self, address, price):\n",
        "    self.address = address\n",
        "    self.price = price\n",
        "\n",
        "class Mansion(House):\n",
        "  def __init__(self, address, price, number_of_rooms):\n",
        "    super().__init__(address, price)\n",
        "    self.number_of_rooms = number_of_rooms\n",
        "\n",
        "# Test\n",
        "m = Mansion(\"123 Main St\", 250000, 8)\n",
        "print(m.address, m.price, m.number_of_rooms)"
      ],
      "metadata": {
        "colab": {
          "base_uri": "https://localhost:8080/"
        },
        "id": "BSewkz5DJDVY",
        "outputId": "97847000-603b-46fc-ceb8-8f5ad78d0914"
      },
      "execution_count": 26,
      "outputs": [
        {
          "output_type": "stream",
          "name": "stdout",
          "text": [
            "123 Main St 250000 8\n"
          ]
        }
      ]
    }
  ]
}