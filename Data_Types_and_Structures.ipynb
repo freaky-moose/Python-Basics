{
  "nbformat": 4,
  "nbformat_minor": 0,
  "metadata": {
    "colab": {
      "provenance": []
    },
    "kernelspec": {
      "name": "python3",
      "display_name": "Python 3"
    },
    "language_info": {
      "name": "python"
    }
  },
  "cells": [
    {
      "cell_type": "markdown",
      "source": [
        "# **Data Types and Structures Questions**"
      ],
      "metadata": {
        "id": "QF9ixbwVwqB0"
      }
    },
    {
      "cell_type": "markdown",
      "source": [
        "## **1. What are data structures, and why are they important?**\n",
        "- Data structures are specialized formats for organising, processing and storing data. Ther are important because they help manage and manipulate data efficiently, improving the performance of algorithms & programs."
      ],
      "metadata": {
        "id": "3UQoaxbCxIWb"
      }
    },
    {
      "cell_type": "markdown",
      "source": [
        "## **2.  Explain the difference between mutable and immutable data types with examples.**\n",
        "- **Mutable:** Mutable data types can be changed after creation (e.g., list, dict, set).\n",
        "- **Immutable:** Immuatble data types cannot be changed after creation (e.g., int, float, str, tuple)"
      ],
      "metadata": {
        "id": "WjoDe65U-J8-"
      }
    },
    {
      "cell_type": "markdown",
      "source": [
        "## **3. What are the main differences between lists and tuples in Python?**\n",
        "- 1.   Lists are mutable; tuples are immutable.\n",
        "  2.   Lists use []; tuples use ().\n",
        "  3.   Tuples are generally more faster & memory efficient than Lists.\n",
        "\n"
      ],
      "metadata": {
        "id": "1Z9Qwy2n_Sjg"
      }
    },
    {
      "cell_type": "markdown",
      "source": [
        "## **4. Describe how dictionaries store data.**\n",
        "- Dictionaries store data in key-value pairs using a hash table. Each key is hashed to an index in an internal arrey, making data access efficient."
      ],
      "metadata": {
        "id": "EdUC6qdgAJhD"
      }
    },
    {
      "cell_type": "markdown",
      "source": [
        "## **5. Why might you use a set instead of a list in Python?**\n",
        "- To store **unique** values (no duplicates).\n",
        "- For **fast membership testing** (in operator).\n",
        "- To perform **set operations** like union, intersections etc."
      ],
      "metadata": {
        "id": "I5vjH6E0vz6u"
      }
    },
    {
      "cell_type": "markdown",
      "source": [
        "## **6. What is a string in Python, and how is it different from a list?**\n",
        "- A string is a sequence of characters (immutable), while a list is a sequence of elements (mutable and can contain any data type)."
      ],
      "metadata": {
        "id": "CqxFDh5-wDsd"
      }
    },
    {
      "cell_type": "markdown",
      "source": [
        "## **7. How do tuples ensure data integrity in Python?**\n",
        "- Tuples and immutable, so once created, their values cannot change- ensuring the data remains constant and secure."
      ],
      "metadata": {
        "id": "kqG1qTOiwp7e"
      }
    },
    {
      "cell_type": "markdown",
      "source": [
        "## **8. What is a hash table, and how does it relate to dictionaries in Python?**\n",
        "- A hash table maps keys to values using a hash function. Python dictionaries use hash tables internally for fast access and storage."
      ],
      "metadata": {
        "id": "2gL0PYs6x7Bl"
      }
    },
    {
      "cell_type": "markdown",
      "source": [
        "## **9. Can lists contain different data types in Python?**\n",
        "- Yes, Python lists can hold elements of different data types."
      ],
      "metadata": {
        "id": "jqUs_Q96yfYF"
      }
    },
    {
      "cell_type": "markdown",
      "source": [
        "## **10. Explain why strings are immutable in Python.**\n",
        "- Strings are immutable for memory optimization, thread-safety and to make hash-based operations (like using strings as dict keys) reliable."
      ],
      "metadata": {
        "id": "zBFBpdDEyycG"
      }
    },
    {
      "cell_type": "markdown",
      "source": [
        "## **11. What advantages do dictionaries offer over lists for certain tasks?**\n",
        "- Faster data retrieval via keys.\n",
        "- Key-based access (vs. index-based in lists).\n",
        "- More meaningful data relationships (key-value)."
      ],
      "metadata": {
        "id": "lUTiS2XtzN6G"
      }
    },
    {
      "cell_type": "markdown",
      "source": [
        "## **12. Describe a scenario where using a tuple would be preferable over a list.**\n",
        "- Use a tuple to represent constant data, like coordinates ( x, y) or dates, where modifications isn't allowed or desired."
      ],
      "metadata": {
        "id": "FMh-ZDgTzsFW"
      }
    },
    {
      "cell_type": "markdown",
      "source": [
        "## **13. How do sets handle duplicate values in Python?**\n",
        "- Sets automatically eliminate duplicates."
      ],
      "metadata": {
        "id": "e8jZ3Tvv0FeG"
      }
    },
    {
      "cell_type": "markdown",
      "source": [
        "## **14. How does the “in” keyword work differently for lists and dictionaries?**\n",
        "- In lists: checks for **value** presence.\n",
        "- In dictionaries: checks for **key** presence."
      ],
      "metadata": {
        "id": "foUi0Wiv03r-"
      }
    },
    {
      "cell_type": "markdown",
      "source": [
        "## **15. Can you modify the elements of a tuple? Explain why or why not.**\n",
        "- No, tuples are immutable. you cannot change their elements are creation.\n",
        "- **Why tuples are immutable-**\n",
        " Once a tuple is created, its elements are fixed and cannot be changed, added to, or removed. This immutability ensures data integrity and allows tuples to be used as keys in dictionaries adn elements in sets (which requires hashable types).\n"
      ],
      "metadata": {
        "id": "a9unfVfw1LAd"
      }
    },
    {
      "cell_type": "markdown",
      "source": [
        "## **16. What is a nested dictionary, and give an example of its use case?**\n",
        "- A dictionary inside another dictionary."
      ],
      "metadata": {
        "id": "DwFLpcoB2mbd"
      }
    },
    {
      "cell_type": "code",
      "source": [
        "# Examples:\n",
        "\n",
        "students = {\n",
        "    \"Max\": {\"age\": 22, \"grade\": \"A\"},\n",
        "    \"Bob\": {\"age\": 21, \"grade\": \"B\"}\n",
        "}"
      ],
      "metadata": {
        "id": "jm7R9tf_22Gu"
      },
      "execution_count": 5,
      "outputs": []
    },
    {
      "cell_type": "markdown",
      "source": [
        "## **17. Describe the time complexity of accessing elements in a dictionary.**\n",
        "- **Average Case:** O(1) (constant time) due to hashing.\n",
        "  **Worst Case:** O(n) (very rare, due to hash collisions)."
      ],
      "metadata": {
        "id": "q_-pqpVQ3Wxm"
      }
    },
    {
      "cell_type": "markdown",
      "source": [
        "## **18. In what situations are lists preferred over dictionaries?**\n",
        "- When order of elements matters.\n",
        "- When data doesn't need key-based access.\n",
        "- When iterating through items sequentially."
      ],
      "metadata": {
        "id": "YtXnODFA34U-"
      }
    },
    {
      "cell_type": "markdown",
      "source": [
        "## **19. Why are dictionaries considered unordered, and how does that affect data retrieval?**\n",
        "- Prior to Python 3.7, dictionaries didn't maintain insertion order. Though they now do, they are still conceptually unordered-keys are accessed via hashes, not positions."
      ],
      "metadata": {
        "id": "ERsnUSmU30y-"
      }
    },
    {
      "cell_type": "markdown",
      "source": [
        "## **20. Explain the difference between a list and a dictionary in terms of data retrieval.**\n",
        "- **List:** Indexed by position (e.g., list[0]).\n",
        "- **Dictionary:** Accessed via keys (e.g., dict[\"name\"]), allowing for more intuitive and faster retrieval based on identifiers."
      ],
      "metadata": {
        "id": "VS_aDJCS5Dsm"
      }
    },
    {
      "cell_type": "markdown",
      "source": [
        "# **Practical Questions**"
      ],
      "metadata": {
        "id": "DtfpwVMK5yOO"
      }
    },
    {
      "cell_type": "markdown",
      "source": [
        "## **01. Write a code to create a string with your name and print it.**"
      ],
      "metadata": {
        "id": "kmBZ0EoRgg9b"
      }
    },
    {
      "cell_type": "code",
      "source": [
        "name = \"Sayan Sinha\"\n",
        "print(name)"
      ],
      "metadata": {
        "colab": {
          "base_uri": "https://localhost:8080/"
        },
        "id": "Q9cbLfiHhmdU",
        "outputId": "156ed4bf-379c-4a2f-f072-56f2f49edb49"
      },
      "execution_count": 3,
      "outputs": [
        {
          "output_type": "stream",
          "name": "stdout",
          "text": [
            "Sayan Sinha\n"
          ]
        }
      ]
    },
    {
      "cell_type": "markdown",
      "source": [
        "## **02. Write a code to find the length of the string \"Hello World\".**"
      ],
      "metadata": {
        "id": "duS6fBi0hxKj"
      }
    },
    {
      "cell_type": "code",
      "source": [
        "print(len(\"Hello World\"))"
      ],
      "metadata": {
        "colab": {
          "base_uri": "https://localhost:8080/"
        },
        "id": "jpY0aCxoh5jb",
        "outputId": "b647d73e-bf28-4a39-e4e6-d0146c82364b"
      },
      "execution_count": 4,
      "outputs": [
        {
          "output_type": "stream",
          "name": "stdout",
          "text": [
            "11\n"
          ]
        }
      ]
    },
    {
      "cell_type": "markdown",
      "source": [
        "## **03. Write a code to slice the first 3 characters from the string \"Python Programming\".**"
      ],
      "metadata": {
        "id": "3LmiNAoGiFVD"
      }
    },
    {
      "cell_type": "code",
      "source": [
        "text = \"Python Programming\"\n",
        "print(text[:3])"
      ],
      "metadata": {
        "colab": {
          "base_uri": "https://localhost:8080/"
        },
        "id": "bz06UnJBiQMU",
        "outputId": "514ed4ab-4c46-4de1-a23e-577c3a33f8f0"
      },
      "execution_count": 5,
      "outputs": [
        {
          "output_type": "stream",
          "name": "stdout",
          "text": [
            "Pyt\n"
          ]
        }
      ]
    },
    {
      "cell_type": "markdown",
      "source": [
        "## **04. Write a code to convert the string \"hello\" to uppercase.**"
      ],
      "metadata": {
        "id": "GkN7K-GOib5z"
      }
    },
    {
      "cell_type": "code",
      "source": [
        "print(\"hello\".upper())"
      ],
      "metadata": {
        "colab": {
          "base_uri": "https://localhost:8080/"
        },
        "id": "vEdCa2XhijN7",
        "outputId": "c6f59ae4-5668-4a12-967e-760659313d1e"
      },
      "execution_count": 6,
      "outputs": [
        {
          "output_type": "stream",
          "name": "stdout",
          "text": [
            "HELLO\n"
          ]
        }
      ]
    },
    {
      "cell_type": "markdown",
      "source": [
        "## **05. Write a code to replace the word \"apple\" with \"orange\" in the string \"I like apple\".**"
      ],
      "metadata": {
        "id": "5mNmlLk3iq-L"
      }
    },
    {
      "cell_type": "code",
      "source": [
        "text = \"I like apple\"\n",
        "print(text.replace(\"apple\", \"orange\"))"
      ],
      "metadata": {
        "colab": {
          "base_uri": "https://localhost:8080/"
        },
        "id": "f6znJVWFiyDT",
        "outputId": "aa4f7b2c-bd73-4c9d-f9ba-6068b7befd21"
      },
      "execution_count": 7,
      "outputs": [
        {
          "output_type": "stream",
          "name": "stdout",
          "text": [
            "I like orange\n"
          ]
        }
      ]
    },
    {
      "cell_type": "markdown",
      "source": [
        "## **06. Write a code to create a list with numbers 1 to 5 and print it.**"
      ],
      "metadata": {
        "id": "-zTzUOWBi_aU"
      }
    },
    {
      "cell_type": "code",
      "source": [
        "numbers = [1,2,3,4,5]\n",
        "print(numbers)"
      ],
      "metadata": {
        "colab": {
          "base_uri": "https://localhost:8080/"
        },
        "id": "TE4GCTIAjF9L",
        "outputId": "e001821f-9293-4408-cce2-9b8e82a30b62"
      },
      "execution_count": 10,
      "outputs": [
        {
          "output_type": "stream",
          "name": "stdout",
          "text": [
            "[1, 2, 3, 4, 5]\n"
          ]
        }
      ]
    },
    {
      "cell_type": "markdown",
      "source": [
        "## **07. Write a code to append the number 10 to the list [1, 2, 3, 4].**"
      ],
      "metadata": {
        "id": "h5w4UXZGjUTL"
      }
    },
    {
      "cell_type": "code",
      "source": [
        "lst = [1,2,3,4]\n",
        "lst.append(10)\n",
        "print(lst)"
      ],
      "metadata": {
        "colab": {
          "base_uri": "https://localhost:8080/"
        },
        "id": "rXFaswpNjc47",
        "outputId": "e607e607-0cb2-48ca-e8ca-189cda2dee44"
      },
      "execution_count": 9,
      "outputs": [
        {
          "output_type": "stream",
          "name": "stdout",
          "text": [
            "[1, 2, 3, 4, 10]\n"
          ]
        }
      ]
    },
    {
      "cell_type": "markdown",
      "source": [
        "## **08. Write a code to remove the number 3 from the list [1, 2, 3, 4, 5].**"
      ],
      "metadata": {
        "id": "YwReLHHsjtKT"
      }
    },
    {
      "cell_type": "code",
      "source": [
        "lst = [1,2,3,4,5]\n",
        "lst.remove(3)\n",
        "print(lst)"
      ],
      "metadata": {
        "colab": {
          "base_uri": "https://localhost:8080/"
        },
        "id": "a2D16Okzjziz",
        "outputId": "bbd2c739-0c6e-4c65-8c16-f86ba5c70bcc"
      },
      "execution_count": 11,
      "outputs": [
        {
          "output_type": "stream",
          "name": "stdout",
          "text": [
            "[1, 2, 4, 5]\n"
          ]
        }
      ]
    },
    {
      "cell_type": "markdown",
      "source": [
        "## **09. Write a code to access the second element in the list ['a', 'b', 'c', 'd'].**"
      ],
      "metadata": {
        "id": "2Z2NAg7Bj-tD"
      }
    },
    {
      "cell_type": "code",
      "source": [
        "lst = ['a','b','c','d']\n",
        "print(lst[1])"
      ],
      "metadata": {
        "colab": {
          "base_uri": "https://localhost:8080/"
        },
        "id": "0_te3548kGaT",
        "outputId": "5ac45c7f-3364-4b70-b3f0-55efcad462dc"
      },
      "execution_count": 12,
      "outputs": [
        {
          "output_type": "stream",
          "name": "stdout",
          "text": [
            "b\n"
          ]
        }
      ]
    },
    {
      "cell_type": "markdown",
      "source": [
        "## **10. Write a code to reverse the list [10, 20, 30, 40, 50].**"
      ],
      "metadata": {
        "id": "FusojjhRkXej"
      }
    },
    {
      "cell_type": "code",
      "source": [
        "lst = [10,20,30,40,50]\n",
        "lst.reverse()\n",
        "print(lst)"
      ],
      "metadata": {
        "colab": {
          "base_uri": "https://localhost:8080/"
        },
        "id": "BovEEpo-kd01",
        "outputId": "e77674a5-af82-4115-fe36-7647d515d97d"
      },
      "execution_count": 13,
      "outputs": [
        {
          "output_type": "stream",
          "name": "stdout",
          "text": [
            "[50, 40, 30, 20, 10]\n"
          ]
        }
      ]
    },
    {
      "cell_type": "markdown",
      "source": [
        "## **11. Write a code to create a tuple with the elements 100, 200, 300 and print it.**"
      ],
      "metadata": {
        "id": "HODIGZBOkm8j"
      }
    },
    {
      "cell_type": "code",
      "source": [
        "tup = (100,200,300)\n",
        "print(tup)"
      ],
      "metadata": {
        "colab": {
          "base_uri": "https://localhost:8080/"
        },
        "id": "juLeOvhYk-47",
        "outputId": "ca8f7c1b-1af5-4c75-caaf-7e7f4ec02c91"
      },
      "execution_count": 14,
      "outputs": [
        {
          "output_type": "stream",
          "name": "stdout",
          "text": [
            "(100, 200, 300)\n"
          ]
        }
      ]
    },
    {
      "cell_type": "markdown",
      "source": [
        "## **12. Write a code to access the second-to-last element of the tuple ('red', 'green', 'blue', 'yellow').**"
      ],
      "metadata": {
        "id": "Eptx2Y-blITj"
      }
    },
    {
      "cell_type": "code",
      "source": [
        "tup = ('red', 'green', 'blue', 'yellow')\n",
        "print(tup[-2])"
      ],
      "metadata": {
        "colab": {
          "base_uri": "https://localhost:8080/"
        },
        "id": "7PnYHAbflNr0",
        "outputId": "3a508875-3e5c-44e2-d835-e8e5a4a22476"
      },
      "execution_count": 15,
      "outputs": [
        {
          "output_type": "stream",
          "name": "stdout",
          "text": [
            "blue\n"
          ]
        }
      ]
    },
    {
      "cell_type": "markdown",
      "source": [
        "## **13. Write a code to find the minimum number in the tuple (10, 20, 5, 15).**"
      ],
      "metadata": {
        "id": "rtANeMQclV9c"
      }
    },
    {
      "cell_type": "code",
      "source": [
        "tup = (10,20,5,15)\n",
        "print(min(tup))"
      ],
      "metadata": {
        "colab": {
          "base_uri": "https://localhost:8080/"
        },
        "id": "VnQMmmV-lb2k",
        "outputId": "918191d5-ca4b-4e29-fc13-8a34607abbe7"
      },
      "execution_count": 16,
      "outputs": [
        {
          "output_type": "stream",
          "name": "stdout",
          "text": [
            "5\n"
          ]
        }
      ]
    },
    {
      "cell_type": "markdown",
      "source": [
        "## **14. Write a code to find the index of the element \"cat\" in the tuple ('dog', 'cat', 'rabbit').**"
      ],
      "metadata": {
        "id": "wvZKPRrilmub"
      }
    },
    {
      "cell_type": "code",
      "source": [
        "tup = ('dog','cat','rabbit')\n",
        "print(tup.index('cat'))"
      ],
      "metadata": {
        "colab": {
          "base_uri": "https://localhost:8080/"
        },
        "id": "S4_aj9vZlwzT",
        "outputId": "a9b7c12d-5bf2-46b7-a8bc-b8e52c0f2507"
      },
      "execution_count": 17,
      "outputs": [
        {
          "output_type": "stream",
          "name": "stdout",
          "text": [
            "1\n"
          ]
        }
      ]
    },
    {
      "cell_type": "markdown",
      "source": [
        "## **15. Write a code to create a tuple containing three different fruits and check if \"kiwi\" is in it.**"
      ],
      "metadata": {
        "id": "_AFHB-pPmE4b"
      }
    },
    {
      "cell_type": "code",
      "source": [
        "fruits = (\"apple\", \"banana\", \"cherry\",\"kiwi\")\n",
        "if \"kiwi\" in fruits:\n",
        "  print(\"kiwi is in the tuple\")\n",
        "else:\n",
        "  print(\"kiwi is not in the tuple\")"
      ],
      "metadata": {
        "colab": {
          "base_uri": "https://localhost:8080/"
        },
        "id": "cFGXJ9vWmJFz",
        "outputId": "1f6d97f5-8235-4b79-cb81-203f59df5824"
      },
      "execution_count": 18,
      "outputs": [
        {
          "output_type": "stream",
          "name": "stdout",
          "text": [
            "kiwi is in the tuple\n"
          ]
        }
      ]
    },
    {
      "cell_type": "markdown",
      "source": [
        "## **16. Write a code to create a set with the elements 'a', 'b', 'c' and print it.**"
      ],
      "metadata": {
        "id": "nW5OIweHmh0r"
      }
    },
    {
      "cell_type": "code",
      "source": [
        "set = {'a', 'b', 'c'}\n",
        "print(set)"
      ],
      "metadata": {
        "colab": {
          "base_uri": "https://localhost:8080/"
        },
        "id": "Qf1ub09fmm9z",
        "outputId": "e1472969-bfd2-424c-f4a0-b580bbcafaf0"
      },
      "execution_count": 23,
      "outputs": [
        {
          "output_type": "stream",
          "name": "stdout",
          "text": [
            "{'c', 'b', 'a'}\n"
          ]
        }
      ]
    },
    {
      "cell_type": "markdown",
      "source": [
        "## **17. Write a code to clear all elements from the set {1, 2, 3, 4, 5}.**"
      ],
      "metadata": {
        "id": "9cO_2xhunzE8"
      }
    },
    {
      "cell_type": "code",
      "source": [
        "set = {1,2,3,4,5}\n",
        "set.clear()\n",
        "print(set)"
      ],
      "metadata": {
        "colab": {
          "base_uri": "https://localhost:8080/"
        },
        "id": "blVcxjhSn5Yl",
        "outputId": "ae538f61-f962-44df-ef7c-d379c83840fb"
      },
      "execution_count": 24,
      "outputs": [
        {
          "output_type": "stream",
          "name": "stdout",
          "text": [
            "set()\n"
          ]
        }
      ]
    },
    {
      "cell_type": "markdown",
      "source": [
        "## **18. Write a code to remove the element 4 from the set {1, 2, 3, 4}.**"
      ],
      "metadata": {
        "id": "Svqq8Og3n-NL"
      }
    },
    {
      "cell_type": "code",
      "source": [
        "set = {1,2,3,4}\n",
        "set.remove(4)\n",
        "print(set)"
      ],
      "metadata": {
        "colab": {
          "base_uri": "https://localhost:8080/"
        },
        "id": "lXnbgB1DoCxE",
        "outputId": "d1de7a5c-d5fc-4e1d-9551-9521af198cb2"
      },
      "execution_count": 25,
      "outputs": [
        {
          "output_type": "stream",
          "name": "stdout",
          "text": [
            "{1, 2, 3}\n"
          ]
        }
      ]
    },
    {
      "cell_type": "markdown",
      "source": [
        "## **19. Write a code to find the union of two sets {1, 2, 3} and {3, 4, 5}.**"
      ],
      "metadata": {
        "id": "U78oDadyoIDb"
      }
    },
    {
      "cell_type": "code",
      "source": [
        "set1 = {1,2,3}\n",
        "set2 = {3,4,5}\n",
        "print(set1.union(set2))"
      ],
      "metadata": {
        "colab": {
          "base_uri": "https://localhost:8080/"
        },
        "id": "OQjNL8UxoMzD",
        "outputId": "fe1c0971-e68c-47a1-a023-fcde74746da3"
      },
      "execution_count": 33,
      "outputs": [
        {
          "output_type": "stream",
          "name": "stdout",
          "text": [
            "{1, 2, 3, 4, 5}\n"
          ]
        }
      ]
    },
    {
      "cell_type": "markdown",
      "source": [
        "## **20. Write a code to find the intersection of two sets {1, 2, 3} and {2, 3, 4}.**"
      ],
      "metadata": {
        "id": "I8SF00nNoe_r"
      }
    },
    {
      "cell_type": "code",
      "source": [
        "set1 = {1,2,3}\n",
        "set2 = {2,3,4}\n",
        "print(set1.intersection(set2))"
      ],
      "metadata": {
        "colab": {
          "base_uri": "https://localhost:8080/"
        },
        "id": "2QZhxT4lojhN",
        "outputId": "09529ef8-0fe1-4824-e00f-39a0eed9a090"
      },
      "execution_count": 32,
      "outputs": [
        {
          "output_type": "stream",
          "name": "stdout",
          "text": [
            "{2, 3}\n"
          ]
        }
      ]
    },
    {
      "cell_type": "markdown",
      "source": [
        "## **21. Write a code to create a dictionary with the keys \"name\", \"age\", and \"city\", and print it.**"
      ],
      "metadata": {
        "id": "Q9LK3AHfpBZT"
      }
    },
    {
      "cell_type": "code",
      "source": [
        "d = {\"name\": \"Sayan\", \"age\": 27, \"city\": \"Siliguri\"}\n",
        "print(d)"
      ],
      "metadata": {
        "colab": {
          "base_uri": "https://localhost:8080/"
        },
        "id": "-YOGXdaqpGCL",
        "outputId": "6d89735f-7051-44a9-e625-affcdca4a064"
      },
      "execution_count": 36,
      "outputs": [
        {
          "output_type": "stream",
          "name": "stdout",
          "text": [
            "{'name': 'Sayan', 'age': 27, 'city': 'Siliguri'}\n"
          ]
        }
      ]
    },
    {
      "cell_type": "markdown",
      "source": [
        "## **22. Write a code to add a new key-value pair \"country\": \"USA\" to the dictionary {'name': 'John', 'age': 25}.**"
      ],
      "metadata": {
        "id": "WlXtTswqpa8c"
      }
    },
    {
      "cell_type": "code",
      "source": [
        "d = {\"name\": \"John\", \"age\": 25}\n",
        "d[\"country\"] = \"USA\"\n",
        "print(d)"
      ],
      "metadata": {
        "colab": {
          "base_uri": "https://localhost:8080/"
        },
        "id": "3aP9gNjWpj8T",
        "outputId": "8139cac8-578a-483e-82e7-cedaa2a2a838"
      },
      "execution_count": 44,
      "outputs": [
        {
          "output_type": "stream",
          "name": "stdout",
          "text": [
            "{'name': 'John', 'age': 25, 'country': 'USA'}\n"
          ]
        }
      ]
    },
    {
      "cell_type": "markdown",
      "source": [
        "## **23. Write a code to access the value associated with the key \"name\" in the dictionary {'name': 'Alice', 'age': 30}.**"
      ],
      "metadata": {
        "id": "RzohCA11q2nz"
      }
    },
    {
      "cell_type": "code",
      "source": [
        "d = {'name': 'Alice', 'age': 30}\n",
        "print(d['name'])"
      ],
      "metadata": {
        "colab": {
          "base_uri": "https://localhost:8080/"
        },
        "id": "NScer51ZrGlM",
        "outputId": "cd8cc2a2-cf7a-43d5-8e62-99004c539432"
      },
      "execution_count": 46,
      "outputs": [
        {
          "output_type": "stream",
          "name": "stdout",
          "text": [
            "Alice\n"
          ]
        }
      ]
    },
    {
      "cell_type": "markdown",
      "source": [
        "## **24. Write a code to remove the key \"age\" from the dictionary {'name': 'Bob', 'age': 22, 'city': 'New York'}.**"
      ],
      "metadata": {
        "id": "0Aq0HHg-rOsL"
      }
    },
    {
      "cell_type": "code",
      "source": [
        "d = {'name': 'Bob', 'age': 22, 'city': 'New York'}\n",
        "d.pop('age')\n",
        "print(d)"
      ],
      "metadata": {
        "colab": {
          "base_uri": "https://localhost:8080/"
        },
        "id": "8O_0OMWprULk",
        "outputId": "2b88ec01-75a8-47d8-810b-6096cc1cdfd7"
      },
      "execution_count": 47,
      "outputs": [
        {
          "output_type": "stream",
          "name": "stdout",
          "text": [
            "{'name': 'Bob', 'city': 'New York'}\n"
          ]
        }
      ]
    },
    {
      "cell_type": "markdown",
      "source": [
        "## **25. Write a code to check if the key \"city\" exists in the dictionary {'name': 'Alice', 'city': 'Paris'}.**"
      ],
      "metadata": {
        "id": "yOqoSrwgsM0M"
      }
    },
    {
      "cell_type": "code",
      "source": [
        "d = {'name': 'Alice', 'city': 'Paris'}\n",
        "if \"city\" in d:\n",
        "  print(\"'city' exists in the dictionary\")\n",
        "else:\n",
        "  print(\"'city' does not exist in the dictionary\")"
      ],
      "metadata": {
        "colab": {
          "base_uri": "https://localhost:8080/"
        },
        "id": "NVe1DxhqsRUk",
        "outputId": "a2f084cf-e361-4b3a-84c9-b7b51a747c7f"
      },
      "execution_count": 50,
      "outputs": [
        {
          "output_type": "stream",
          "name": "stdout",
          "text": [
            "'city' exists in the dictionary\n"
          ]
        }
      ]
    },
    {
      "cell_type": "markdown",
      "source": [
        "## **26. Write a code to create a list, a tuple, and a dictionary, and print them all.**"
      ],
      "metadata": {
        "id": "ItKDNcRnszGk"
      }
    },
    {
      "cell_type": "code",
      "source": [
        "lst = [1,2,3]\n",
        "tup = (4,5,6)\n",
        "dct = {'a': 1, 'b': 2, 'c': 3}\n",
        "print(lst, tup, dct)"
      ],
      "metadata": {
        "colab": {
          "base_uri": "https://localhost:8080/"
        },
        "id": "GHC3xNHBs4NM",
        "outputId": "54c21744-e694-4b63-a9d0-8b9f94aabd05"
      },
      "execution_count": 51,
      "outputs": [
        {
          "output_type": "stream",
          "name": "stdout",
          "text": [
            "[1, 2, 3] (4, 5, 6) {'a': 1, 'b': 2, 'c': 3}\n"
          ]
        }
      ]
    },
    {
      "cell_type": "markdown",
      "source": [
        "## **27. Write a code to create a list of 5 random numbers between 1 and 100, sort it in ascending order, and print the result.(replaced)**"
      ],
      "metadata": {
        "id": "VSSnkWxYtRcs"
      }
    },
    {
      "cell_type": "code",
      "source": [
        "import random\n",
        "numbers = random.sample(range(1,100), 5)\n",
        "numbers.sort()\n",
        "print(numbers)"
      ],
      "metadata": {
        "colab": {
          "base_uri": "https://localhost:8080/"
        },
        "id": "UYDxhL4LtX4l",
        "outputId": "37c4dcb8-976c-4aab-8651-f4f0c1219112"
      },
      "execution_count": 55,
      "outputs": [
        {
          "output_type": "stream",
          "name": "stdout",
          "text": [
            "[37, 38, 51, 69, 83]\n"
          ]
        }
      ]
    },
    {
      "cell_type": "markdown",
      "source": [
        "## **28. Write a code to create a list with strings and print the element at the third index.**"
      ],
      "metadata": {
        "id": "ZM3qp1VeuTF0"
      }
    },
    {
      "cell_type": "code",
      "source": [
        "lst = ['apple', 'banana', 'cherry', 'strawberry', 'orange']\n",
        "print(lst[3])"
      ],
      "metadata": {
        "colab": {
          "base_uri": "https://localhost:8080/"
        },
        "id": "zzzZjlSwuva8",
        "outputId": "b692f21e-9c97-42ee-8da2-dbec726138ca"
      },
      "execution_count": 58,
      "outputs": [
        {
          "output_type": "stream",
          "name": "stdout",
          "text": [
            "strawberry\n"
          ]
        }
      ]
    },
    {
      "cell_type": "markdown",
      "source": [
        "## **29. Write a code to combine two dictionaries into one and print the result.**"
      ],
      "metadata": {
        "id": "LJK2j519vFNc"
      }
    },
    {
      "cell_type": "code",
      "source": [
        "d1 = {'a': 1, 'b': 2}\n",
        "d2 = {'c': 3, 'd': 4}\n",
        "combined = {**d1, **d2}\n",
        "print(combined)"
      ],
      "metadata": {
        "colab": {
          "base_uri": "https://localhost:8080/"
        },
        "id": "WVk39fLrvMJs",
        "outputId": "0a270b37-6f98-4a9b-df6b-a8c567e392e6"
      },
      "execution_count": 59,
      "outputs": [
        {
          "output_type": "stream",
          "name": "stdout",
          "text": [
            "{'a': 1, 'b': 2, 'c': 3, 'd': 4}\n"
          ]
        }
      ]
    },
    {
      "cell_type": "markdown",
      "source": [
        "## **30. Write a code to convert a list of strings into a set.**"
      ],
      "metadata": {
        "id": "WS-oDiDCvcDM"
      }
    },
    {
      "cell_type": "code",
      "source": [
        "string_list = ['apple', 'banana', 'orange']\n",
        "string_set = (string_list)\n",
        "print(string_set)"
      ],
      "metadata": {
        "colab": {
          "base_uri": "https://localhost:8080/"
        },
        "id": "2tq03MLjvgeF",
        "outputId": "30a97c0d-2228-454c-f1cd-bfd524a0d848"
      },
      "execution_count": 75,
      "outputs": [
        {
          "output_type": "stream",
          "name": "stdout",
          "text": [
            "['apple', 'banana', 'orange']\n"
          ]
        }
      ]
    }
  ]
}